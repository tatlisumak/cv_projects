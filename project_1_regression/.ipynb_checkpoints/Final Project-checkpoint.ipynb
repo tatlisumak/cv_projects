{
 "cells": [
  {
   "cell_type": "raw",
   "metadata": {},
   "source": [
    "The Ames Housing dataset was compiled by Dean De Cock for use in data science education. It's an incredible alternative for data scientists looking for a modernized and expanded version of the often cited Boston Housing dataset.\n",
    "There is also a competition at https://www.kaggle.com/c/house-prices-advanced-regression-techniques/overview about this dataset and advanced regression techniques."
   ]
  },
  {
   "cell_type": "code",
   "execution_count": 1,
   "metadata": {},
   "outputs": [
    {
     "name": "stderr",
     "output_type": "stream",
     "text": [
      "C:\\Users\\matat\\Anaconda3\\lib\\site-packages\\statsmodels\\tools\\_testing.py:19: FutureWarning: pandas.util.testing is deprecated. Use the functions in the public API at pandas.testing instead.\n",
      "  import pandas.util.testing as tm\n"
     ]
    }
   ],
   "source": [
    "# Importing neccessary modules\n",
    "import pandas as pd\n",
    "import matplotlib.pyplot as plt\n",
    "import seaborn as sns\n",
    "import numpy as np\n",
    "from scipy.stats import norm\n",
    "from sklearn.preprocessing import StandardScaler\n",
    "from scipy import stats\n",
    "import warnings\n",
    "warnings.filterwarnings('ignore')\n",
    "%matplotlib inline"
   ]
  },
  {
   "cell_type": "code",
   "execution_count": 2,
   "metadata": {},
   "outputs": [],
   "source": [
    "# Two datasets are created : train.csv and test.csv for competition purposes\n",
    "# I will use the train dataset only because test.csv does not contain the target variable\n",
    "df = pd.read_csv('train.csv')\n",
    "\n"
   ]
  },
  {
   "cell_type": "code",
   "execution_count": 3,
   "metadata": {
    "scrolled": false
   },
   "outputs": [
    {
     "data": {
      "text/plain": [
       "Index(['Id', 'MSSubClass', 'MSZoning', 'LotFrontage', 'LotArea', 'Street',\n",
       "       'Alley', 'LotShape', 'LandContour', 'Utilities', 'LotConfig',\n",
       "       'LandSlope', 'Neighborhood', 'Condition1', 'Condition2', 'BldgType',\n",
       "       'HouseStyle', 'OverallQual', 'OverallCond', 'YearBuilt', 'YearRemodAdd',\n",
       "       'RoofStyle', 'RoofMatl', 'Exterior1st', 'Exterior2nd', 'MasVnrType',\n",
       "       'MasVnrArea', 'ExterQual', 'ExterCond', 'Foundation', 'BsmtQual',\n",
       "       'BsmtCond', 'BsmtExposure', 'BsmtFinType1', 'BsmtFinSF1',\n",
       "       'BsmtFinType2', 'BsmtFinSF2', 'BsmtUnfSF', 'TotalBsmtSF', 'Heating',\n",
       "       'HeatingQC', 'CentralAir', 'Electrical', '1stFlrSF', '2ndFlrSF',\n",
       "       'LowQualFinSF', 'GrLivArea', 'BsmtFullBath', 'BsmtHalfBath', 'FullBath',\n",
       "       'HalfBath', 'BedroomAbvGr', 'KitchenAbvGr', 'KitchenQual',\n",
       "       'TotRmsAbvGrd', 'Functional', 'Fireplaces', 'FireplaceQu', 'GarageType',\n",
       "       'GarageYrBlt', 'GarageFinish', 'GarageCars', 'GarageArea', 'GarageQual',\n",
       "       'GarageCond', 'PavedDrive', 'WoodDeckSF', 'OpenPorchSF',\n",
       "       'EnclosedPorch', '3SsnPorch', 'ScreenPorch', 'PoolArea', 'PoolQC',\n",
       "       'Fence', 'MiscFeature', 'MiscVal', 'MoSold', 'YrSold', 'SaleType',\n",
       "       'SaleCondition', 'SalePrice'],\n",
       "      dtype='object')"
      ]
     },
     "execution_count": 3,
     "metadata": {},
     "output_type": "execute_result"
    }
   ],
   "source": [
    "# Checking the variables\n",
    "df.columns\n"
   ]
  },
  {
   "cell_type": "code",
   "execution_count": 4,
   "metadata": {
    "scrolled": true
   },
   "outputs": [
    {
     "name": "stdout",
     "output_type": "stream",
     "text": [
      "<class 'pandas.core.frame.DataFrame'>\n",
      "RangeIndex: 1460 entries, 0 to 1459\n",
      "Data columns (total 81 columns):\n",
      " #   Column         Non-Null Count  Dtype  \n",
      "---  ------         --------------  -----  \n",
      " 0   Id             1460 non-null   int64  \n",
      " 1   MSSubClass     1460 non-null   int64  \n",
      " 2   MSZoning       1460 non-null   object \n",
      " 3   LotFrontage    1201 non-null   float64\n",
      " 4   LotArea        1460 non-null   int64  \n",
      " 5   Street         1460 non-null   object \n",
      " 6   Alley          91 non-null     object \n",
      " 7   LotShape       1460 non-null   object \n",
      " 8   LandContour    1460 non-null   object \n",
      " 9   Utilities      1460 non-null   object \n",
      " 10  LotConfig      1460 non-null   object \n",
      " 11  LandSlope      1460 non-null   object \n",
      " 12  Neighborhood   1460 non-null   object \n",
      " 13  Condition1     1460 non-null   object \n",
      " 14  Condition2     1460 non-null   object \n",
      " 15  BldgType       1460 non-null   object \n",
      " 16  HouseStyle     1460 non-null   object \n",
      " 17  OverallQual    1460 non-null   int64  \n",
      " 18  OverallCond    1460 non-null   int64  \n",
      " 19  YearBuilt      1460 non-null   int64  \n",
      " 20  YearRemodAdd   1460 non-null   int64  \n",
      " 21  RoofStyle      1460 non-null   object \n",
      " 22  RoofMatl       1460 non-null   object \n",
      " 23  Exterior1st    1460 non-null   object \n",
      " 24  Exterior2nd    1460 non-null   object \n",
      " 25  MasVnrType     1452 non-null   object \n",
      " 26  MasVnrArea     1452 non-null   float64\n",
      " 27  ExterQual      1460 non-null   object \n",
      " 28  ExterCond      1460 non-null   object \n",
      " 29  Foundation     1460 non-null   object \n",
      " 30  BsmtQual       1423 non-null   object \n",
      " 31  BsmtCond       1423 non-null   object \n",
      " 32  BsmtExposure   1422 non-null   object \n",
      " 33  BsmtFinType1   1423 non-null   object \n",
      " 34  BsmtFinSF1     1460 non-null   int64  \n",
      " 35  BsmtFinType2   1422 non-null   object \n",
      " 36  BsmtFinSF2     1460 non-null   int64  \n",
      " 37  BsmtUnfSF      1460 non-null   int64  \n",
      " 38  TotalBsmtSF    1460 non-null   int64  \n",
      " 39  Heating        1460 non-null   object \n",
      " 40  HeatingQC      1460 non-null   object \n",
      " 41  CentralAir     1460 non-null   object \n",
      " 42  Electrical     1459 non-null   object \n",
      " 43  1stFlrSF       1460 non-null   int64  \n",
      " 44  2ndFlrSF       1460 non-null   int64  \n",
      " 45  LowQualFinSF   1460 non-null   int64  \n",
      " 46  GrLivArea      1460 non-null   int64  \n",
      " 47  BsmtFullBath   1460 non-null   int64  \n",
      " 48  BsmtHalfBath   1460 non-null   int64  \n",
      " 49  FullBath       1460 non-null   int64  \n",
      " 50  HalfBath       1460 non-null   int64  \n",
      " 51  BedroomAbvGr   1460 non-null   int64  \n",
      " 52  KitchenAbvGr   1460 non-null   int64  \n",
      " 53  KitchenQual    1460 non-null   object \n",
      " 54  TotRmsAbvGrd   1460 non-null   int64  \n",
      " 55  Functional     1460 non-null   object \n",
      " 56  Fireplaces     1460 non-null   int64  \n",
      " 57  FireplaceQu    770 non-null    object \n",
      " 58  GarageType     1379 non-null   object \n",
      " 59  GarageYrBlt    1379 non-null   float64\n",
      " 60  GarageFinish   1379 non-null   object \n",
      " 61  GarageCars     1460 non-null   int64  \n",
      " 62  GarageArea     1460 non-null   int64  \n",
      " 63  GarageQual     1379 non-null   object \n",
      " 64  GarageCond     1379 non-null   object \n",
      " 65  PavedDrive     1460 non-null   object \n",
      " 66  WoodDeckSF     1460 non-null   int64  \n",
      " 67  OpenPorchSF    1460 non-null   int64  \n",
      " 68  EnclosedPorch  1460 non-null   int64  \n",
      " 69  3SsnPorch      1460 non-null   int64  \n",
      " 70  ScreenPorch    1460 non-null   int64  \n",
      " 71  PoolArea       1460 non-null   int64  \n",
      " 72  PoolQC         7 non-null      object \n",
      " 73  Fence          281 non-null    object \n",
      " 74  MiscFeature    54 non-null     object \n",
      " 75  MiscVal        1460 non-null   int64  \n",
      " 76  MoSold         1460 non-null   int64  \n",
      " 77  YrSold         1460 non-null   int64  \n",
      " 78  SaleType       1460 non-null   object \n",
      " 79  SaleCondition  1460 non-null   object \n",
      " 80  SalePrice      1460 non-null   int64  \n",
      "dtypes: float64(3), int64(35), object(43)\n",
      "memory usage: 924.0+ KB\n"
     ]
    }
   ],
   "source": [
    "# We see that we have a mix of quantitative and qualitative variable\n",
    "df.info()"
   ]
  },
  {
   "cell_type": "code",
   "execution_count": 5,
   "metadata": {},
   "outputs": [
    {
     "data": {
      "text/plain": [
       "count      1460.000000\n",
       "mean     180921.195890\n",
       "std       79442.502883\n",
       "min       34900.000000\n",
       "25%      129975.000000\n",
       "50%      163000.000000\n",
       "75%      214000.000000\n",
       "max      755000.000000\n",
       "Name: SalePrice, dtype: float64"
      ]
     },
     "execution_count": 5,
     "metadata": {},
     "output_type": "execute_result"
    }
   ],
   "source": [
    "# Analysing the target variable sale price\n",
    "df['SalePrice'].describe()\n",
    "\n"
   ]
  },
  {
   "cell_type": "code",
   "execution_count": 6,
   "metadata": {},
   "outputs": [
    {
     "data": {
      "text/plain": [
       "<matplotlib.axes._subplots.AxesSubplot at 0x2638f1ff940>"
      ]
     },
     "execution_count": 6,
     "metadata": {},
     "output_type": "execute_result"
    },
    {
     "data": {
      "image/png": "[encoded data removed]",
      "text/plain": [
       "<Figure size 432x288 with 1 Axes>"
      ]
     },
     "metadata": {
      "needs_background": "light"
     },
     "output_type": "display_data"
    }
   ],
   "source": [
    "# Checking the distribution of sale price\n",
    "df['SalePrice'].hist(bins=20)\n"
   ]
  },
  {
   "cell_type": "code",
   "execution_count": 7,
   "metadata": {},
   "outputs": [
    {
     "name": "stdout",
     "output_type": "stream",
     "text": [
      "Skewness: 1.882876\n",
      "Kurtosis: 6.536282\n"
     ]
    }
   ],
   "source": [
    "print(\"Skewness: %f\" % df['SalePrice'].skew())\n",
    "print(\"Kurtosis: %f\" % df['SalePrice'].kurt())\n"
   ]
  },
  {
   "cell_type": "code",
   "execution_count": 8,
   "metadata": {
    "scrolled": false
   },
   "outputs": [
    {
     "data": {
      "image/png": "[encoded data removed]",
      "text/plain": [
       "<Figure size 864x648 with 2 Axes>"
      ]
     },
     "metadata": {
      "needs_background": "light"
     },
     "output_type": "display_data"
    }
   ],
   "source": [
    "# Let's look at the correlation matrix\n",
    "corrmat = df.corr()\n",
    "f, ax = plt.subplots(figsize=(12, 9))\n",
    "sns.heatmap(corrmat, vmax=.8, square=True);"
   ]
  },
  {
   "cell_type": "raw",
   "metadata": {},
   "source": [
    "Highly correlated variables:\n",
    "\n",
    "Overall Quall - SalePrice\n",
    "\n",
    "GarageYrBlt - YearBlt  -> Makes sense. It is very likely that garage and the house are built together\n",
    "\n",
    "TotRmsAbvGrd - GrLiveArea  \n",
    "\n",
    "GarageCars - GarageArea "
   ]
  },
  {
   "cell_type": "code",
   "execution_count": 9,
   "metadata": {},
   "outputs": [
    {
     "data": {
      "image/png": "[encoded data removed]",
      "text/plain": [
       "<Figure size 432x288 with 2 Axes>"
      ]
     },
     "metadata": {},
     "output_type": "display_data"
    }
   ],
   "source": [
    "# Let's look at the top10 correlated variables to see potential multicollinearity\n",
    "\n",
    "k = 10 #number of variables for heatmap\n",
    "cols = corrmat.nlargest(k, 'SalePrice')['SalePrice'].index\n",
    "cm = np.corrcoef(df[cols].values.T)\n",
    "sns.set(font_scale=1.25)\n",
    "hm = sns.heatmap(cm, cbar=True, annot=True, square=True, fmt='.2f', annot_kws={'size': 10}, yticklabels=cols.values, xticklabels=cols.values)\n",
    "plt.show()"
   ]
  },
  {
   "cell_type": "raw",
   "metadata": {},
   "source": [
    "'OverallQual', 'GrLivArea' and 'TotalBsmtSF' are strongly correlated with 'SalePrice'\n",
    "\n",
    "'GarageCars' and 'GarageArea' are highly correlated and gives very similar information. We can eliminate one of them. I choose to keep 'GarageCars' since its correlation is higher with 'SalePrice'\n",
    "\n",
    "We can eliminate also '1stFlr' and 'TotRmsAbvGrd' for the same reasoning."
   ]
  },
  {
   "cell_type": "code",
   "execution_count": 10,
   "metadata": {},
   "outputs": [],
   "source": [
    "df= df.drop(['GarageArea','1stFlrSF','TotRmsAbvGrd','Id'],axis=1)"
   ]
  },
  {
   "cell_type": "markdown",
   "metadata": {},
   "source": [
    "# Handling Missing Data"
   ]
  },
  {
   "cell_type": "code",
   "execution_count": 11,
   "metadata": {
    "scrolled": false
   },
   "outputs": [
    {
     "data": {
      "text/html": [
       "<div>\n",
       "<style scoped>\n",
       "    .dataframe tbody tr th:only-of-type {\n",
       "        vertical-align: middle;\n",
       "    }\n",
       "\n",
       "    .dataframe tbody tr th {\n",
       "        vertical-align: top;\n",
       "    }\n",
       "\n",
       "    .dataframe thead th {\n",
       "        text-align: right;\n",
       "    }\n",
       "</style>\n",
       "<table border=\"1\" class=\"dataframe\">\n",
       "  <thead>\n",
       "    <tr style=\"text-align: right;\">\n",
       "      <th></th>\n",
       "      <th>Total</th>\n",
       "      <th>Percent</th>\n",
       "    </tr>\n",
       "  </thead>\n",
       "  <tbody>\n",
       "    <tr>\n",
       "      <th>PoolQC</th>\n",
       "      <td>1453</td>\n",
       "      <td>0.995205</td>\n",
       "    </tr>\n",
       "    <tr>\n",
       "      <th>MiscFeature</th>\n",
       "      <td>1406</td>\n",
       "      <td>0.963014</td>\n",
       "    </tr>\n",
       "    <tr>\n",
       "      <th>Alley</th>\n",
       "      <td>1369</td>\n",
       "      <td>0.937671</td>\n",
       "    </tr>\n",
       "    <tr>\n",
       "      <th>Fence</th>\n",
       "      <td>1179</td>\n",
       "      <td>0.807534</td>\n",
       "    </tr>\n",
       "    <tr>\n",
       "      <th>FireplaceQu</th>\n",
       "      <td>690</td>\n",
       "      <td>0.472603</td>\n",
       "    </tr>\n",
       "    <tr>\n",
       "      <th>LotFrontage</th>\n",
       "      <td>259</td>\n",
       "      <td>0.177397</td>\n",
       "    </tr>\n",
       "    <tr>\n",
       "      <th>GarageCond</th>\n",
       "      <td>81</td>\n",
       "      <td>0.055479</td>\n",
       "    </tr>\n",
       "    <tr>\n",
       "      <th>GarageType</th>\n",
       "      <td>81</td>\n",
       "      <td>0.055479</td>\n",
       "    </tr>\n",
       "    <tr>\n",
       "      <th>GarageYrBlt</th>\n",
       "      <td>81</td>\n",
       "      <td>0.055479</td>\n",
       "    </tr>\n",
       "    <tr>\n",
       "      <th>GarageFinish</th>\n",
       "      <td>81</td>\n",
       "      <td>0.055479</td>\n",
       "    </tr>\n",
       "    <tr>\n",
       "      <th>GarageQual</th>\n",
       "      <td>81</td>\n",
       "      <td>0.055479</td>\n",
       "    </tr>\n",
       "    <tr>\n",
       "      <th>BsmtFinType2</th>\n",
       "      <td>38</td>\n",
       "      <td>0.026027</td>\n",
       "    </tr>\n",
       "    <tr>\n",
       "      <th>BsmtExposure</th>\n",
       "      <td>38</td>\n",
       "      <td>0.026027</td>\n",
       "    </tr>\n",
       "    <tr>\n",
       "      <th>BsmtCond</th>\n",
       "      <td>37</td>\n",
       "      <td>0.025342</td>\n",
       "    </tr>\n",
       "    <tr>\n",
       "      <th>BsmtQual</th>\n",
       "      <td>37</td>\n",
       "      <td>0.025342</td>\n",
       "    </tr>\n",
       "    <tr>\n",
       "      <th>BsmtFinType1</th>\n",
       "      <td>37</td>\n",
       "      <td>0.025342</td>\n",
       "    </tr>\n",
       "    <tr>\n",
       "      <th>MasVnrArea</th>\n",
       "      <td>8</td>\n",
       "      <td>0.005479</td>\n",
       "    </tr>\n",
       "    <tr>\n",
       "      <th>MasVnrType</th>\n",
       "      <td>8</td>\n",
       "      <td>0.005479</td>\n",
       "    </tr>\n",
       "    <tr>\n",
       "      <th>Electrical</th>\n",
       "      <td>1</td>\n",
       "      <td>0.000685</td>\n",
       "    </tr>\n",
       "    <tr>\n",
       "      <th>LotConfig</th>\n",
       "      <td>0</td>\n",
       "      <td>0.000000</td>\n",
       "    </tr>\n",
       "  </tbody>\n",
       "</table>\n",
       "</div>"
      ],
      "text/plain": [
       "              Total   Percent\n",
       "PoolQC         1453  0.995205\n",
       "MiscFeature    1406  0.963014\n",
       "Alley          1369  0.937671\n",
       "Fence          1179  0.807534\n",
       "FireplaceQu     690  0.472603\n",
       "LotFrontage     259  0.177397\n",
       "GarageCond       81  0.055479\n",
       "GarageType       81  0.055479\n",
       "GarageYrBlt      81  0.055479\n",
       "GarageFinish     81  0.055479\n",
       "GarageQual       81  0.055479\n",
       "BsmtFinType2     38  0.026027\n",
       "BsmtExposure     38  0.026027\n",
       "BsmtCond         37  0.025342\n",
       "BsmtQual         37  0.025342\n",
       "BsmtFinType1     37  0.025342\n",
       "MasVnrArea        8  0.005479\n",
       "MasVnrType        8  0.005479\n",
       "Electrical        1  0.000685\n",
       "LotConfig         0  0.000000"
      ]
     },
     "execution_count": 11,
     "metadata": {},
     "output_type": "execute_result"
    }
   ],
   "source": [
    "# missing data\n",
    "total = df.isnull().sum().sort_values(ascending=False)\n",
    "percent = (df.isnull().sum()/df.isnull().count()).sort_values(ascending=False)\n",
    "missing_data = pd.concat([total, percent], axis=1, keys=['Total', 'Percent'])\n",
    "missing_data.head(20)"
   ]
  },
  {
   "cell_type": "raw",
   "metadata": {},
   "source": [
    "Ideally we want to delete the variables that have missing data unless they contain unique and/or important information.\n",
    "When we look at the top 4 variables 80+ % of the data is missing. No reason to impute those variables. The other variables are neither unimportant or strongly correlated with 'OverallQual', 'YearBuilt' and 'GarageCars'. We only keep 'Electrical' variable after deleting that 1 observation."
   ]
  },
  {
   "cell_type": "code",
   "execution_count": 12,
   "metadata": {},
   "outputs": [
    {
     "data": {
      "text/plain": [
       "0"
      ]
     },
     "execution_count": 12,
     "metadata": {},
     "output_type": "execute_result"
    }
   ],
   "source": [
    "df = df.drop((missing_data[missing_data['Total'] > 1]).index,1)\n",
    "df = df.drop(df.loc[df['Electrical'].isnull()].index)\n",
    "df.isnull().sum().max() # just checking that there's no missing data "
   ]
  },
  {
   "cell_type": "code",
   "execution_count": 13,
   "metadata": {},
   "outputs": [],
   "source": [
    "#Dropping columns that have max value = 0\n",
    "\n",
    "df = df.drop(['BsmtHalfBath','PoolArea'],axis=1)\n",
    "num_col = df.select_dtypes(exclude='object').columns"
   ]
  },
  {
   "cell_type": "markdown",
   "metadata": {},
   "source": [
    "# Detecting Outliers"
   ]
  },
  {
   "cell_type": "code",
   "execution_count": null,
   "metadata": {},
   "outputs": [],
   "source": []
  },
  {
   "cell_type": "code",
   "execution_count": 14,
   "metadata": {},
   "outputs": [],
   "source": [
    "#Dropping the outlier rows with standard deviation\n",
    "\n",
    "factor = 3\n",
    "upper_lim = df[num_col].mean () + df[num_col].std () * factor\n",
    "lower_lim = df[num_col].mean () - df[num_col].std () * factor\n",
    "df[num_col] = df[num_col][(df[num_col] < upper_lim) & (df[num_col] > lower_lim)]"
   ]
  },
  {
   "cell_type": "code",
   "execution_count": 15,
   "metadata": {
    "scrolled": true
   },
   "outputs": [
    {
     "name": "stdout",
     "output_type": "stream",
     "text": [
      "<class 'pandas.core.frame.DataFrame'>\n",
      "Int64Index: 1459 entries, 0 to 1459\n",
      "Data columns (total 57 columns):\n",
      " #   Column         Non-Null Count  Dtype  \n",
      "---  ------         --------------  -----  \n",
      " 0   MSSubClass     1429 non-null   float64\n",
      " 1   MSZoning       1459 non-null   object \n",
      " 2   LotArea        1446 non-null   float64\n",
      " 3   Street         1459 non-null   object \n",
      " 4   LotShape       1459 non-null   object \n",
      " 5   LandContour    1459 non-null   object \n",
      " 6   Utilities      1459 non-null   object \n",
      " 7   LotConfig      1459 non-null   object \n",
      " 8   LandSlope      1459 non-null   object \n",
      " 9   Neighborhood   1459 non-null   object \n",
      " 10  Condition1     1459 non-null   object \n",
      " 11  Condition2     1459 non-null   object \n",
      " 12  BldgType       1459 non-null   object \n",
      " 13  HouseStyle     1459 non-null   object \n",
      " 14  OverallQual    1457 non-null   float64\n",
      " 15  OverallCond    1431 non-null   float64\n",
      " 16  YearBuilt      1453 non-null   float64\n",
      " 17  YearRemodAdd   1459 non-null   int64  \n",
      " 18  RoofStyle      1459 non-null   object \n",
      " 19  RoofMatl       1459 non-null   object \n",
      " 20  Exterior1st    1459 non-null   object \n",
      " 21  Exterior2nd    1459 non-null   object \n",
      " 22  ExterQual      1459 non-null   object \n",
      " 23  ExterCond      1459 non-null   object \n",
      " 24  Foundation     1459 non-null   object \n",
      " 25  BsmtFinSF1     1453 non-null   float64\n",
      " 26  BsmtFinSF2     1409 non-null   float64\n",
      " 27  BsmtUnfSF      1448 non-null   float64\n",
      " 28  TotalBsmtSF    1449 non-null   float64\n",
      " 29  Heating        1459 non-null   object \n",
      " 30  HeatingQC      1459 non-null   object \n",
      " 31  CentralAir     1459 non-null   object \n",
      " 32  Electrical     1459 non-null   object \n",
      " 33  2ndFlrSF       1455 non-null   float64\n",
      " 34  LowQualFinSF   1439 non-null   float64\n",
      " 35  GrLivArea      1443 non-null   float64\n",
      " 36  BsmtFullBath   1443 non-null   float64\n",
      " 37  FullBath       1459 non-null   int64  \n",
      " 38  HalfBath       1447 non-null   float64\n",
      " 39  BedroomAbvGr   1445 non-null   float64\n",
      " 40  KitchenAbvGr   1391 non-null   float64\n",
      " 41  KitchenQual    1459 non-null   object \n",
      " 42  Functional     1459 non-null   object \n",
      " 43  Fireplaces     1454 non-null   float64\n",
      " 44  GarageCars     1459 non-null   int64  \n",
      " 45  PavedDrive     1459 non-null   object \n",
      " 46  WoodDeckSF     1437 non-null   float64\n",
      " 47  OpenPorchSF    1432 non-null   float64\n",
      " 48  EnclosedPorch  1408 non-null   float64\n",
      " 49  3SsnPorch      1436 non-null   float64\n",
      " 50  ScreenPorch    1404 non-null   float64\n",
      " 51  MiscVal        1451 non-null   float64\n",
      " 52  MoSold         1459 non-null   int64  \n",
      " 53  YrSold         1459 non-null   int64  \n",
      " 54  SaleType       1459 non-null   object \n",
      " 55  SaleCondition  1459 non-null   object \n",
      " 56  SalePrice      1437 non-null   float64\n",
      "dtypes: float64(24), int64(5), object(28)\n",
      "memory usage: 661.1+ KB\n"
     ]
    }
   ],
   "source": [
    "df.info()"
   ]
  },
  {
   "cell_type": "code",
   "execution_count": 16,
   "metadata": {},
   "outputs": [],
   "source": [
    "# Filling observations that contained outlier\n",
    "df = df.fillna(df.median())"
   ]
  },
  {
   "cell_type": "code",
   "execution_count": 17,
   "metadata": {
    "scrolled": true
   },
   "outputs": [
    {
     "name": "stdout",
     "output_type": "stream",
     "text": [
      "<class 'pandas.core.frame.DataFrame'>\n",
      "Int64Index: 1459 entries, 0 to 1459\n",
      "Data columns (total 57 columns):\n",
      " #   Column         Non-Null Count  Dtype  \n",
      "---  ------         --------------  -----  \n",
      " 0   MSSubClass     1459 non-null   float64\n",
      " 1   MSZoning       1459 non-null   object \n",
      " 2   LotArea        1459 non-null   float64\n",
      " 3   Street         1459 non-null   object \n",
      " 4   LotShape       1459 non-null   object \n",
      " 5   LandContour    1459 non-null   object \n",
      " 6   Utilities      1459 non-null   object \n",
      " 7   LotConfig      1459 non-null   object \n",
      " 8   LandSlope      1459 non-null   object \n",
      " 9   Neighborhood   1459 non-null   object \n",
      " 10  Condition1     1459 non-null   object \n",
      " 11  Condition2     1459 non-null   object \n",
      " 12  BldgType       1459 non-null   object \n",
      " 13  HouseStyle     1459 non-null   object \n",
      " 14  OverallQual    1459 non-null   float64\n",
      " 15  OverallCond    1459 non-null   float64\n",
      " 16  YearBuilt      1459 non-null   float64\n",
      " 17  YearRemodAdd   1459 non-null   int64  \n",
      " 18  RoofStyle      1459 non-null   object \n",
      " 19  RoofMatl       1459 non-null   object \n",
      " 20  Exterior1st    1459 non-null   object \n",
      " 21  Exterior2nd    1459 non-null   object \n",
      " 22  ExterQual      1459 non-null   object \n",
      " 23  ExterCond      1459 non-null   object \n",
      " 24  Foundation     1459 non-null   object \n",
      " 25  BsmtFinSF1     1459 non-null   float64\n",
      " 26  BsmtFinSF2     1459 non-null   float64\n",
      " 27  BsmtUnfSF      1459 non-null   float64\n",
      " 28  TotalBsmtSF    1459 non-null   float64\n",
      " 29  Heating        1459 non-null   object \n",
      " 30  HeatingQC      1459 non-null   object \n",
      " 31  CentralAir     1459 non-null   object \n",
      " 32  Electrical     1459 non-null   object \n",
      " 33  2ndFlrSF       1459 non-null   float64\n",
      " 34  LowQualFinSF   1459 non-null   float64\n",
      " 35  GrLivArea      1459 non-null   float64\n",
      " 36  BsmtFullBath   1459 non-null   float64\n",
      " 37  FullBath       1459 non-null   int64  \n",
      " 38  HalfBath       1459 non-null   float64\n",
      " 39  BedroomAbvGr   1459 non-null   float64\n",
      " 40  KitchenAbvGr   1459 non-null   float64\n",
      " 41  KitchenQual    1459 non-null   object \n",
      " 42  Functional     1459 non-null   object \n",
      " 43  Fireplaces     1459 non-null   float64\n",
      " 44  GarageCars     1459 non-null   int64  \n",
      " 45  PavedDrive     1459 non-null   object \n",
      " 46  WoodDeckSF     1459 non-null   float64\n",
      " 47  OpenPorchSF    1459 non-null   float64\n",
      " 48  EnclosedPorch  1459 non-null   float64\n",
      " 49  3SsnPorch      1459 non-null   float64\n",
      " 50  ScreenPorch    1459 non-null   float64\n",
      " 51  MiscVal        1459 non-null   float64\n",
      " 52  MoSold         1459 non-null   int64  \n",
      " 53  YrSold         1459 non-null   int64  \n",
      " 54  SaleType       1459 non-null   object \n",
      " 55  SaleCondition  1459 non-null   object \n",
      " 56  SalePrice      1459 non-null   float64\n",
      "dtypes: float64(24), int64(5), object(28)\n",
      "memory usage: 661.1+ KB\n"
     ]
    }
   ],
   "source": [
    "df.info()"
   ]
  },
  {
   "cell_type": "code",
   "execution_count": 18,
   "metadata": {
    "scrolled": true
   },
   "outputs": [
    {
     "data": {
      "text/plain": [
       "0"
      ]
     },
     "execution_count": 18,
     "metadata": {},
     "output_type": "execute_result"
    }
   ],
   "source": [
    "# Checking if there is any missing data\n",
    "df.isnull().sum().sum()"
   ]
  },
  {
   "cell_type": "code",
   "execution_count": 19,
   "metadata": {},
   "outputs": [
    {
     "data": {
      "text/plain": [
       "(1459, 57)"
      ]
     },
     "execution_count": 19,
     "metadata": {},
     "output_type": "execute_result"
    }
   ],
   "source": [
    "df.shape"
   ]
  },
  {
   "cell_type": "code",
   "execution_count": 20,
   "metadata": {
    "scrolled": true
   },
   "outputs": [
    {
     "data": {
      "text/html": [
       "<div>\n",
       "<style scoped>\n",
       "    .dataframe tbody tr th:only-of-type {\n",
       "        vertical-align: middle;\n",
       "    }\n",
       "\n",
       "    .dataframe tbody tr th {\n",
       "        vertical-align: top;\n",
       "    }\n",
       "\n",
       "    .dataframe thead th {\n",
       "        text-align: right;\n",
       "    }\n",
       "</style>\n",
       "<table border=\"1\" class=\"dataframe\">\n",
       "  <thead>\n",
       "    <tr style=\"text-align: right;\">\n",
       "      <th></th>\n",
       "      <th>MSSubClass</th>\n",
       "      <th>LotArea</th>\n",
       "      <th>OverallQual</th>\n",
       "      <th>OverallCond</th>\n",
       "      <th>YearBuilt</th>\n",
       "      <th>YearRemodAdd</th>\n",
       "      <th>BsmtFinSF1</th>\n",
       "      <th>BsmtFinSF2</th>\n",
       "      <th>BsmtUnfSF</th>\n",
       "      <th>TotalBsmtSF</th>\n",
       "      <th>...</th>\n",
       "      <th>GarageCars</th>\n",
       "      <th>WoodDeckSF</th>\n",
       "      <th>OpenPorchSF</th>\n",
       "      <th>EnclosedPorch</th>\n",
       "      <th>3SsnPorch</th>\n",
       "      <th>ScreenPorch</th>\n",
       "      <th>MiscVal</th>\n",
       "      <th>MoSold</th>\n",
       "      <th>YrSold</th>\n",
       "      <th>SalePrice</th>\n",
       "    </tr>\n",
       "  </thead>\n",
       "  <tbody>\n",
       "    <tr>\n",
       "      <th>count</th>\n",
       "      <td>1459.000000</td>\n",
       "      <td>1459.000000</td>\n",
       "      <td>1459.000000</td>\n",
       "      <td>1459.000000</td>\n",
       "      <td>1459.000000</td>\n",
       "      <td>1459.000000</td>\n",
       "      <td>1459.000000</td>\n",
       "      <td>1459.000000</td>\n",
       "      <td>1459.000000</td>\n",
       "      <td>1459.000000</td>\n",
       "      <td>...</td>\n",
       "      <td>1459.000000</td>\n",
       "      <td>1459.000000</td>\n",
       "      <td>1459.000000</td>\n",
       "      <td>1459.000000</td>\n",
       "      <td>1459.000000</td>\n",
       "      <td>1459.000000</td>\n",
       "      <td>1459.000000</td>\n",
       "      <td>1459.000000</td>\n",
       "      <td>1459.000000</td>\n",
       "      <td>1459.000000</td>\n",
       "    </tr>\n",
       "    <tr>\n",
       "      <th>mean</th>\n",
       "      <td>3.791248</td>\n",
       "      <td>9.092355</td>\n",
       "      <td>1.942128</td>\n",
       "      <td>1.864745</td>\n",
       "      <td>7.587013</td>\n",
       "      <td>7.593748</td>\n",
       "      <td>4.225008</td>\n",
       "      <td>0.429589</td>\n",
       "      <td>5.637184</td>\n",
       "      <td>6.743541</td>\n",
       "      <td>...</td>\n",
       "      <td>0.972512</td>\n",
       "      <td>2.360160</td>\n",
       "      <td>2.263336</td>\n",
       "      <td>0.505248</td>\n",
       "      <td>0.002178</td>\n",
       "      <td>0.204115</td>\n",
       "      <td>0.189021</td>\n",
       "      <td>1.910909</td>\n",
       "      <td>7.605300</td>\n",
       "      <td>12.006873</td>\n",
       "    </tr>\n",
       "    <tr>\n",
       "      <th>std</th>\n",
       "      <td>0.656621</td>\n",
       "      <td>0.474166</td>\n",
       "      <td>0.196654</td>\n",
       "      <td>0.150500</td>\n",
       "      <td>0.015070</td>\n",
       "      <td>0.010424</td>\n",
       "      <td>2.984178</td>\n",
       "      <td>1.467961</td>\n",
       "      <td>1.847245</td>\n",
       "      <td>1.141046</td>\n",
       "      <td>...</td>\n",
       "      <td>0.322363</td>\n",
       "      <td>2.568454</td>\n",
       "      <td>2.103734</td>\n",
       "      <td>1.465608</td>\n",
       "      <td>0.083202</td>\n",
       "      <td>0.979593</td>\n",
       "      <td>1.075688</td>\n",
       "      <td>0.425674</td>\n",
       "      <td>0.000661</td>\n",
       "      <td>0.374732</td>\n",
       "    </tr>\n",
       "    <tr>\n",
       "      <th>min</th>\n",
       "      <td>3.044522</td>\n",
       "      <td>7.170888</td>\n",
       "      <td>1.098612</td>\n",
       "      <td>1.386294</td>\n",
       "      <td>7.540622</td>\n",
       "      <td>7.576097</td>\n",
       "      <td>0.000000</td>\n",
       "      <td>0.000000</td>\n",
       "      <td>0.000000</td>\n",
       "      <td>0.000000</td>\n",
       "      <td>...</td>\n",
       "      <td>0.000000</td>\n",
       "      <td>0.000000</td>\n",
       "      <td>0.000000</td>\n",
       "      <td>0.000000</td>\n",
       "      <td>0.000000</td>\n",
       "      <td>0.000000</td>\n",
       "      <td>0.000000</td>\n",
       "      <td>0.693147</td>\n",
       "      <td>7.604396</td>\n",
       "      <td>10.460271</td>\n",
       "    </tr>\n",
       "    <tr>\n",
       "      <th>25%</th>\n",
       "      <td>3.044522</td>\n",
       "      <td>8.929302</td>\n",
       "      <td>1.791759</td>\n",
       "      <td>1.791759</td>\n",
       "      <td>7.578145</td>\n",
       "      <td>7.584773</td>\n",
       "      <td>0.000000</td>\n",
       "      <td>0.000000</td>\n",
       "      <td>5.411646</td>\n",
       "      <td>6.680855</td>\n",
       "      <td>...</td>\n",
       "      <td>0.693147</td>\n",
       "      <td>0.000000</td>\n",
       "      <td>0.000000</td>\n",
       "      <td>0.000000</td>\n",
       "      <td>0.000000</td>\n",
       "      <td>0.000000</td>\n",
       "      <td>0.000000</td>\n",
       "      <td>1.791759</td>\n",
       "      <td>7.604894</td>\n",
       "      <td>11.774913</td>\n",
       "    </tr>\n",
       "    <tr>\n",
       "      <th>50%</th>\n",
       "      <td>3.931826</td>\n",
       "      <td>9.152234</td>\n",
       "      <td>1.945910</td>\n",
       "      <td>1.791759</td>\n",
       "      <td>7.587817</td>\n",
       "      <td>7.598399</td>\n",
       "      <td>5.945421</td>\n",
       "      <td>0.000000</td>\n",
       "      <td>6.158038</td>\n",
       "      <td>6.898715</td>\n",
       "      <td>...</td>\n",
       "      <td>1.098612</td>\n",
       "      <td>0.000000</td>\n",
       "      <td>3.218876</td>\n",
       "      <td>0.000000</td>\n",
       "      <td>0.000000</td>\n",
       "      <td>0.000000</td>\n",
       "      <td>0.000000</td>\n",
       "      <td>1.945910</td>\n",
       "      <td>7.605392</td>\n",
       "      <td>11.992267</td>\n",
       "    </tr>\n",
       "    <tr>\n",
       "      <th>75%</th>\n",
       "      <td>4.186777</td>\n",
       "      <td>9.347228</td>\n",
       "      <td>2.079442</td>\n",
       "      <td>1.945910</td>\n",
       "      <td>7.601402</td>\n",
       "      <td>7.603399</td>\n",
       "      <td>6.558907</td>\n",
       "      <td>0.000000</td>\n",
       "      <td>6.681482</td>\n",
       "      <td>7.155005</td>\n",
       "      <td>...</td>\n",
       "      <td>1.098612</td>\n",
       "      <td>5.111988</td>\n",
       "      <td>4.174387</td>\n",
       "      <td>0.000000</td>\n",
       "      <td>0.000000</td>\n",
       "      <td>0.000000</td>\n",
       "      <td>0.000000</td>\n",
       "      <td>2.197225</td>\n",
       "      <td>7.605890</td>\n",
       "      <td>12.249616</td>\n",
       "    </tr>\n",
       "    <tr>\n",
       "      <th>max</th>\n",
       "      <td>5.198497</td>\n",
       "      <td>10.599007</td>\n",
       "      <td>2.397895</td>\n",
       "      <td>2.197225</td>\n",
       "      <td>7.606387</td>\n",
       "      <td>7.606387</td>\n",
       "      <td>7.501634</td>\n",
       "      <td>6.228511</td>\n",
       "      <td>7.533694</td>\n",
       "      <td>7.754053</td>\n",
       "      <td>...</td>\n",
       "      <td>1.609438</td>\n",
       "      <td>6.150603</td>\n",
       "      <td>5.501258</td>\n",
       "      <td>5.327876</td>\n",
       "      <td>3.178054</td>\n",
       "      <td>5.209486</td>\n",
       "      <td>7.244942</td>\n",
       "      <td>2.564949</td>\n",
       "      <td>7.606387</td>\n",
       "      <td>12.936754</td>\n",
       "    </tr>\n",
       "  </tbody>\n",
       "</table>\n",
       "<p>8 rows × 29 columns</p>\n",
       "</div>"
      ],
      "text/plain": [
       "        MSSubClass      LotArea  OverallQual  OverallCond    YearBuilt  \\\n",
       "count  1459.000000  1459.000000  1459.000000  1459.000000  1459.000000   \n",
       "mean      3.791248     9.092355     1.942128     1.864745     7.587013   \n",
       "std       0.656621     0.474166     0.196654     0.150500     0.015070   \n",
       "min       3.044522     7.170888     1.098612     1.386294     7.540622   \n",
       "25%       3.044522     8.929302     1.791759     1.791759     7.578145   \n",
       "50%       3.931826     9.152234     1.945910     1.791759     7.587817   \n",
       "75%       4.186777     9.347228     2.079442     1.945910     7.601402   \n",
       "max       5.198497    10.599007     2.397895     2.197225     7.606387   \n",
       "\n",
       "       YearRemodAdd   BsmtFinSF1   BsmtFinSF2    BsmtUnfSF  TotalBsmtSF  ...  \\\n",
       "count   1459.000000  1459.000000  1459.000000  1459.000000  1459.000000  ...   \n",
       "mean       7.593748     4.225008     0.429589     5.637184     6.743541  ...   \n",
       "std        0.010424     2.984178     1.467961     1.847245     1.141046  ...   \n",
       "min        7.576097     0.000000     0.000000     0.000000     0.000000  ...   \n",
       "25%        7.584773     0.000000     0.000000     5.411646     6.680855  ...   \n",
       "50%        7.598399     5.945421     0.000000     6.158038     6.898715  ...   \n",
       "75%        7.603399     6.558907     0.000000     6.681482     7.155005  ...   \n",
       "max        7.606387     7.501634     6.228511     7.533694     7.754053  ...   \n",
       "\n",
       "        GarageCars   WoodDeckSF  OpenPorchSF  EnclosedPorch    3SsnPorch  \\\n",
       "count  1459.000000  1459.000000  1459.000000    1459.000000  1459.000000   \n",
       "mean      0.972512     2.360160     2.263336       0.505248     0.002178   \n",
       "std       0.322363     2.568454     2.103734       1.465608     0.083202   \n",
       "min       0.000000     0.000000     0.000000       0.000000     0.000000   \n",
       "25%       0.693147     0.000000     0.000000       0.000000     0.000000   \n",
       "50%       1.098612     0.000000     3.218876       0.000000     0.000000   \n",
       "75%       1.098612     5.111988     4.174387       0.000000     0.000000   \n",
       "max       1.609438     6.150603     5.501258       5.327876     3.178054   \n",
       "\n",
       "       ScreenPorch      MiscVal       MoSold       YrSold    SalePrice  \n",
       "count  1459.000000  1459.000000  1459.000000  1459.000000  1459.000000  \n",
       "mean      0.204115     0.189021     1.910909     7.605300    12.006873  \n",
       "std       0.979593     1.075688     0.425674     0.000661     0.374732  \n",
       "min       0.000000     0.000000     0.693147     7.604396    10.460271  \n",
       "25%       0.000000     0.000000     1.791759     7.604894    11.774913  \n",
       "50%       0.000000     0.000000     1.945910     7.605392    11.992267  \n",
       "75%       0.000000     0.000000     2.197225     7.605890    12.249616  \n",
       "max       5.209486     7.244942     2.564949     7.606387    12.936754  \n",
       "\n",
       "[8 rows x 29 columns]"
      ]
     },
     "execution_count": 20,
     "metadata": {},
     "output_type": "execute_result"
    }
   ],
   "source": [
    "# Checking negative values for log transformation\n",
    "df[num_col].describe().loc['min']\n",
    "\n",
    "# Applying log transformation to data\n",
    "df[num_col] = np.log(df[num_col]+1)\n",
    "\n",
    "# We have very low std for all variables\n",
    "df[num_col].describe()"
   ]
  },
  {
   "cell_type": "code",
   "execution_count": 21,
   "metadata": {},
   "outputs": [],
   "source": [
    "# Standardizatin after low std values\n",
    "from sklearn.preprocessing import StandardScaler\n",
    "scl = StandardScaler()\n",
    "df[num_col] = scl.fit_transform(df[num_col])"
   ]
  },
  {
   "cell_type": "code",
   "execution_count": null,
   "metadata": {},
   "outputs": [],
   "source": []
  },
  {
   "cell_type": "code",
   "execution_count": 22,
   "metadata": {},
   "outputs": [
    {
     "data": {
      "text/plain": [
       "(1459, 57)"
      ]
     },
     "execution_count": 22,
     "metadata": {},
     "output_type": "execute_result"
    }
   ],
   "source": [
    "df.shape"
   ]
  },
  {
   "cell_type": "code",
   "execution_count": 23,
   "metadata": {},
   "outputs": [],
   "source": [
    "#Changing categorical values into numerical ones\n",
    "df = pd.get_dummies(df)"
   ]
  },
  {
   "cell_type": "markdown",
   "metadata": {},
   "source": [
    "# Data is ready for our models"
   ]
  },
  {
   "cell_type": "code",
   "execution_count": 24,
   "metadata": {},
   "outputs": [],
   "source": [
    "from sklearn.model_selection import GridSearchCV\n",
    "from sklearn.linear_model import Lasso\n",
    "from sklearn.linear_model import Ridge\n",
    "from sklearn.model_selection import train_test_split\n",
    "from sklearn.model_selection import cross_val_score, cross_val_predict\n",
    "from sklearn import metrics\n"
   ]
  },
  {
   "cell_type": "code",
   "execution_count": 25,
   "metadata": {},
   "outputs": [],
   "source": [
    "X = df.drop('SalePrice',axis=1)"
   ]
  },
  {
   "cell_type": "code",
   "execution_count": 26,
   "metadata": {},
   "outputs": [],
   "source": [
    "y = df.loc[:,'SalePrice']"
   ]
  },
  {
   "cell_type": "code",
   "execution_count": null,
   "metadata": {},
   "outputs": [],
   "source": []
  },
  {
   "cell_type": "code",
   "execution_count": 27,
   "metadata": {},
   "outputs": [],
   "source": [
    "#Creating parameter candidates for GridSearchCV, these parameter candidates are valid for both Lasso and Ridge Regression\n",
    "\n",
    "parameter_candidates = [{'alpha':[1,0.1,0.001]},\n",
    "                          {'fit_intercept':[True,False]}]"
   ]
  },
  {
   "cell_type": "code",
   "execution_count": 28,
   "metadata": {},
   "outputs": [],
   "source": [
    "# Create a classifier object with the classifier and parameter candidates\n",
    "clf = GridSearchCV(estimator=Lasso(), param_grid=parameter_candidates, n_jobs=-1,cv=7)"
   ]
  },
  {
   "cell_type": "code",
   "execution_count": 29,
   "metadata": {},
   "outputs": [
    {
     "data": {
      "text/plain": [
       "GridSearchCV(cv=7, error_score='raise-deprecating',\n",
       "             estimator=Lasso(alpha=1.0, copy_X=True, fit_intercept=True,\n",
       "                             max_iter=1000, normalize=False, positive=False,\n",
       "                             precompute=False, random_state=None,\n",
       "                             selection='cyclic', tol=0.0001, warm_start=False),\n",
       "             iid='warn', n_jobs=-1,\n",
       "             param_grid=[{'alpha': [1, 0.1, 0.001]},\n",
       "                         {'fit_intercept': [True, False]}],\n",
       "             pre_dispatch='2*n_jobs', refit=True, return_train_score=False,\n",
       "             scoring=None, verbose=0)"
      ]
     },
     "execution_count": 29,
     "metadata": {},
     "output_type": "execute_result"
    }
   ],
   "source": [
    "# Fitting our data to model\n",
    "clf.fit(X,y)"
   ]
  },
  {
   "cell_type": "code",
   "execution_count": 30,
   "metadata": {},
   "outputs": [
    {
     "data": {
      "text/plain": [
       "{'alpha': 0.001}"
      ]
     },
     "execution_count": 30,
     "metadata": {},
     "output_type": "execute_result"
    }
   ],
   "source": [
    "# Getting the best parameter\n",
    "clf.best_params_"
   ]
  },
  {
   "cell_type": "code",
   "execution_count": 31,
   "metadata": {},
   "outputs": [
    {
     "data": {
      "text/plain": [
       "0.8379581935179095"
      ]
     },
     "execution_count": 31,
     "metadata": {},
     "output_type": "execute_result"
    }
   ],
   "source": [
    "# Score of our model\n",
    "clf.best_score_"
   ]
  },
  {
   "cell_type": "code",
   "execution_count": 32,
   "metadata": {},
   "outputs": [],
   "source": [
    "# Create a classifier object with the classifier and parameter candidates\n",
    "clf_r = GridSearchCV(estimator=Ridge(), param_grid=parameter_candidates, n_jobs=-1,cv=7)"
   ]
  },
  {
   "cell_type": "code",
   "execution_count": 33,
   "metadata": {},
   "outputs": [
    {
     "data": {
      "text/plain": [
       "GridSearchCV(cv=7, error_score='raise-deprecating',\n",
       "             estimator=Ridge(alpha=1.0, copy_X=True, fit_intercept=True,\n",
       "                             max_iter=None, normalize=False, random_state=None,\n",
       "                             solver='auto', tol=0.001),\n",
       "             iid='warn', n_jobs=-1,\n",
       "             param_grid=[{'alpha': [1, 0.1, 0.001]},\n",
       "                         {'fit_intercept': [True, False]}],\n",
       "             pre_dispatch='2*n_jobs', refit=True, return_train_score=False,\n",
       "             scoring=None, verbose=0)"
      ]
     },
     "execution_count": 33,
     "metadata": {},
     "output_type": "execute_result"
    }
   ],
   "source": [
    "clf_r.fit(X,y)"
   ]
  },
  {
   "cell_type": "code",
   "execution_count": 34,
   "metadata": {},
   "outputs": [
    {
     "data": {
      "text/plain": [
       "{'alpha': 1}"
      ]
     },
     "execution_count": 34,
     "metadata": {},
     "output_type": "execute_result"
    }
   ],
   "source": [
    "clf_r.best_params_"
   ]
  },
  {
   "cell_type": "code",
   "execution_count": 35,
   "metadata": {},
   "outputs": [
    {
     "data": {
      "text/plain": [
       "0.8280687185198042"
      ]
     },
     "execution_count": 35,
     "metadata": {},
     "output_type": "execute_result"
    }
   ],
   "source": [
    "clf_r.best_score_"
   ]
  },
  {
   "cell_type": "code",
   "execution_count": null,
   "metadata": {},
   "outputs": [],
   "source": [
    "\n"
   ]
  },
  {
   "cell_type": "code",
   "execution_count": 36,
   "metadata": {},
   "outputs": [
    {
     "data": {
      "text/plain": [
       "Lasso(alpha=0.001, copy_X=True, fit_intercept=True, max_iter=1000,\n",
       "      normalize=False, positive=False, precompute=False, random_state=None,\n",
       "      selection='cyclic', tol=0.0001, warm_start=False)"
      ]
     },
     "execution_count": 36,
     "metadata": {},
     "output_type": "execute_result"
    }
   ],
   "source": [
    "# Creating our final model\n",
    "\n",
    "from sklearn.model_selection import cross_val_score\n",
    "\n",
    "model = Lasso(alpha = 0.001)\n",
    "\n",
    "model.fit(X,y)"
   ]
  },
  {
   "cell_type": "markdown",
   "metadata": {},
   "source": [
    "# Testing Our Hypothesis : All else equal a house with bigger \"Above grade (ground) living area square feet\" will have higher sale price"
   ]
  },
  {
   "cell_type": "markdown",
   "metadata": {},
   "source": [
    "## Creating Test Data"
   ]
  },
  {
   "cell_type": "code",
   "execution_count": 37,
   "metadata": {},
   "outputs": [],
   "source": [
    "# Sampling 1 random observation for our hypothesis test\n",
    "X_new = X.sample()"
   ]
  },
  {
   "cell_type": "code",
   "execution_count": 38,
   "metadata": {
    "scrolled": true
   },
   "outputs": [],
   "source": [
    "# Index reset\n",
    "X_new = X_new.reset_index(drop=True)"
   ]
  },
  {
   "cell_type": "code",
   "execution_count": 39,
   "metadata": {},
   "outputs": [],
   "source": [
    "# Creating the variable for the difference between two observations\n",
    "difference = X['GrLivArea'].std()"
   ]
  },
  {
   "cell_type": "code",
   "execution_count": 40,
   "metadata": {},
   "outputs": [],
   "source": [
    "# Copying the observation\n",
    "X_new = X_new.append(X_new.iloc[0,:]).reset_index(drop=True)"
   ]
  },
  {
   "cell_type": "code",
   "execution_count": 41,
   "metadata": {},
   "outputs": [],
   "source": [
    "# Adding and substracting one std to 'GrLivArea'\n",
    "X_new.iloc[0,:]['GrLivArea'] += difference\n",
    "X_new.iloc[1,:]['GrLivArea'] -= difference"
   ]
  },
  {
   "cell_type": "code",
   "execution_count": 42,
   "metadata": {
    "scrolled": true
   },
   "outputs": [
    {
     "data": {
      "text/plain": [
       "0    0.104518\n",
       "1   -1.896168\n",
       "Name: GrLivArea, dtype: float64"
      ]
     },
     "execution_count": 42,
     "metadata": {},
     "output_type": "execute_result"
    }
   ],
   "source": [
    "# Checking the values\n",
    "X_new['GrLivArea']"
   ]
  },
  {
   "cell_type": "code",
   "execution_count": 43,
   "metadata": {},
   "outputs": [
    {
     "data": {
      "text/plain": [
       "(2, 215)"
      ]
     },
     "execution_count": 43,
     "metadata": {},
     "output_type": "execute_result"
    }
   ],
   "source": [
    "X_new.shape"
   ]
  },
  {
   "cell_type": "code",
   "execution_count": 44,
   "metadata": {},
   "outputs": [],
   "source": [
    "# Predicting y values\n",
    "y_new = model.predict(X_new)"
   ]
  },
  {
   "cell_type": "code",
   "execution_count": 45,
   "metadata": {},
   "outputs": [
    {
     "data": {
      "text/plain": [
       "array([-0.38802274, -1.16314728])"
      ]
     },
     "execution_count": 45,
     "metadata": {},
     "output_type": "execute_result"
    }
   ],
   "source": [
    "# Our hypothese is true, a house with bigger \"Above grade (ground) living area square feet\" will have higher sale price\n",
    "y_new"
   ]
  },
  {
   "cell_type": "code",
   "execution_count": 46,
   "metadata": {},
   "outputs": [],
   "source": [
    "results = pd.DataFrame(X_new['GrLivArea'])"
   ]
  },
  {
   "cell_type": "code",
   "execution_count": 47,
   "metadata": {},
   "outputs": [],
   "source": [
    "results['SalePriceTransformed'] = y_new"
   ]
  },
  {
   "cell_type": "code",
   "execution_count": 48,
   "metadata": {},
   "outputs": [
    {
     "data": {
      "text/html": [
       "<div>\n",
       "<style scoped>\n",
       "    .dataframe tbody tr th:only-of-type {\n",
       "        vertical-align: middle;\n",
       "    }\n",
       "\n",
       "    .dataframe tbody tr th {\n",
       "        vertical-align: top;\n",
       "    }\n",
       "\n",
       "    .dataframe thead th {\n",
       "        text-align: right;\n",
       "    }\n",
       "</style>\n",
       "<table border=\"1\" class=\"dataframe\">\n",
       "  <thead>\n",
       "    <tr style=\"text-align: right;\">\n",
       "      <th></th>\n",
       "      <th>GrLivArea</th>\n",
       "      <th>SalePriceTransformed</th>\n",
       "    </tr>\n",
       "  </thead>\n",
       "  <tbody>\n",
       "    <tr>\n",
       "      <th>0</th>\n",
       "      <td>0.104518</td>\n",
       "      <td>-0.388023</td>\n",
       "    </tr>\n",
       "    <tr>\n",
       "      <th>1</th>\n",
       "      <td>-1.896168</td>\n",
       "      <td>-1.163147</td>\n",
       "    </tr>\n",
       "  </tbody>\n",
       "</table>\n",
       "</div>"
      ],
      "text/plain": [
       "   GrLivArea  SalePriceTransformed\n",
       "0   0.104518             -0.388023\n",
       "1  -1.896168             -1.163147"
      ]
     },
     "execution_count": 48,
     "metadata": {},
     "output_type": "execute_result"
    }
   ],
   "source": [
    "results"
   ]
  }
 ],
 "metadata": {
  "kernelspec": {
   "display_name": "Python 3",
   "language": "python",
   "name": "python3"
  },
  "language_info": {
   "codemirror_mode": {
    "name": "ipython",
    "version": 3
   },
   "file_extension": ".py",
   "mimetype": "text/x-python",
   "name": "python",
   "nbconvert_exporter": "python",
   "pygments_lexer": "ipython3",
   "version": "3.7.3"
  }
 },
 "nbformat": 4,
 "nbformat_minor": 2
}
